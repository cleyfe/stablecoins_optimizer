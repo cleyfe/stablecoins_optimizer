{
 "cells": [
  {
   "cell_type": "markdown",
   "metadata": {},
   "source": [
    "# Binance Client Test Notebook"
   ]
  },
  {
   "cell_type": "code",
   "execution_count": null,
   "metadata": {},
   "outputs": [],
   "source": [
    "import sys\n",
    "import os\n",
    "from datetime import datetime, timedelta\n",
    "import pandas as pd\n",
    "import matplotlib.pyplot as plt\n",
    "import seaborn as sns\n",
    "\n",
    "# Add the src directory to the Python path\n",
    "sys.path.append(os.path.abspath(os.path.join('..', 'src')))\n",
    "\n",
    "from clients.binance_client import BinanceClient"
   ]
  },
  {
   "cell_type": "markdown",
   "metadata": {},
   "source": [
    "## Initialize Binance Client"
   ]
  },
  {
   "cell_type": "code",
   "execution_count": null,
   "metadata": {},
   "outputs": [],
   "source": [
    "# Initialize client\n",
    "client = BinanceClient(api_key=os.getenv('binance_api_key'), secret=os.getenv('binance_api_secret'))"
   ]
  },
  {
   "cell_type": "markdown",
   "metadata": {},
   "source": [
    "## Fetch Current Funding Rates"
   ]
  },
  {
   "cell_type": "code",
   "execution_count": null,
   "metadata": {},
   "outputs": [],
   "source": [
    "symbols = ['BTC/USDT:USDT', \n",
    "           'ETH/USDT:USDT', \n",
    "           'SOL/USDT:USDT', \n",
    "           'XRP/USDT:USDT', \n",
    "           'BNB/USDT:USDT', \n",
    "           'DOGE/USDT:USDT', \n",
    "           '1000PEPE/USDT:USDT', \n",
    "           'TON/USDT:USDT', \n",
    "           'AVAX/USDT:USDT', \n",
    "           'WIF/USDT:USDT', \n",
    "           'MATIC/USDT:USDT', \n",
    "           'AAVE/USDT:USDT', \n",
    "           'LINK/USDT:USDT', \n",
    "           'SUI/USDT:USDT', \n",
    "           'ADA/USDT:USDT']\n",
    "current_rates = client.get_current_funding_rates(symbols)\n",
    "print(\"Current Funding Rates:\")\n",
    "display(current_rates)"
   ]
  },
  {
   "cell_type": "markdown",
   "metadata": {},
   "source": [
    "## Visualize Current Funding Rates"
   ]
  },
  {
   "cell_type": "code",
   "execution_count": null,
   "metadata": {},
   "outputs": [],
   "source": [
    "plt.figure(figsize=(10, 6))\n",
    "current_rates_sorted = current_rates.sort_values(by='Annualized Funding Rate')\n",
    "sns.barplot(x='Symbol', y='Annualized Funding Rate', data=current_rates_sorted)\n",
    "plt.title('Current Annualized Funding Rates')\n",
    "plt.xticks(rotation=45)\n",
    "plt.show()"
   ]
  },
  {
   "cell_type": "markdown",
   "metadata": {},
   "source": [
    "## Fetch current positions and prices on Future and Spot"
   ]
  },
  {
   "cell_type": "code",
   "execution_count": null,
   "metadata": {},
   "outputs": [],
   "source": [
    "# Fetch spot position\n",
    "future_symbol = 'LINK/USDT:USDT'\n",
    "spot_symbol = 'LINK/USDT'\n",
    "spot_position = client.fetch_spot_position(spot_symbol)\n",
    "print(f\"Spot position for {spot_symbol}: {spot_position}\")\n",
    "\n",
    "# Fetch futures position\n",
    "futures_position = client.fetch_futures_position(future_symbol)\n",
    "print(f\"Futures position for {future_symbol}:\")\n",
    "display(futures_position)\n",
    "\n",
    "# Fetch real-time prices\n",
    "real_time_prices = client.fetch_real_time_prices(spot_symbol)\n",
    "print(f\"Real-time prices for {spot_symbol}:\")\n",
    "display(real_time_prices)"
   ]
  },
  {
   "cell_type": "markdown",
   "metadata": {},
   "source": [
    "## Get OHLCV data"
   ]
  },
  {
   "cell_type": "code",
   "execution_count": null,
   "metadata": {},
   "outputs": [],
   "source": [
    "symbol = 'BTC/USDT:USDT'\n",
    "start_time = datetime.now() - timedelta(days=30)  # Last 30 days\n",
    "ohlcv_data = client.get_ohlcv(symbol, timeframe='1d', since=start_time, limit=30)\n",
    "display(ohlcv_data)"
   ]
  },
  {
   "cell_type": "markdown",
   "metadata": {},
   "source": [
    "## Fetch Historical Funding Rates"
   ]
  },
  {
   "cell_type": "code",
   "execution_count": null,
   "metadata": {},
   "outputs": [],
   "source": [
    "start_time = datetime.now() - timedelta(days=30)\n",
    "start_time.timestamp() * 1000"
   ]
  },
  {
   "cell_type": "code",
   "execution_count": null,
   "metadata": {},
   "outputs": [],
   "source": [
    "# Fetch Historical Funding Rates\n",
    "symbol = 'BTC/USDT:USDT'\n",
    "# Define start_time as a datetime object\n",
    "start_time = datetime.now() - timedelta(days=30)\n",
    "# Define end_time as the current datetime\n",
    "end_time = datetime.now()\n",
    "\n",
    "# Pass both datetime objects to the method\n",
    "historical_rates = client.get_historical_funding_rates(symbol, start_time, end_time)\n",
    "print(\"Historical Funding Rates:\")\n",
    "display(historical_rates.head())"
   ]
  },
  {
   "cell_type": "markdown",
   "metadata": {},
   "source": [
    "## Visualize Historical Funding Rates"
   ]
  },
  {
   "cell_type": "code",
   "execution_count": null,
   "metadata": {},
   "outputs": [],
   "source": [
    "plt.figure(figsize=(12, 6))\n",
    "plt.plot(historical_rates['datetime'], historical_rates['annualized_rate'])\n",
    "plt.title(f'Historical Annualized Funding Rates for {symbol}')\n",
    "plt.xlabel('Date')\n",
    "plt.ylabel('Annualized Funding Rate (%)')\n",
    "plt.xticks(rotation=45)\n",
    "plt.grid(True)\n",
    "plt.show()"
   ]
  },
  {
   "cell_type": "markdown",
   "metadata": {},
   "source": [
    "## Fetch OHLCV Data"
   ]
  },
  {
   "cell_type": "code",
   "execution_count": null,
   "metadata": {},
   "outputs": [],
   "source": [
    "ohlcv_data = client.get_ohlcv(symbol, '1d', since=start_time)\n",
    "print(\"OHLCV Data:\")\n",
    "display(ohlcv_data.head())"
   ]
  },
  {
   "cell_type": "markdown",
   "metadata": {},
   "source": [
    "## Visualize OHLCV Data"
   ]
  },
  {
   "cell_type": "code",
   "execution_count": null,
   "metadata": {},
   "outputs": [],
   "source": [
    "plt.figure(figsize=(12, 6))\n",
    "plt.plot(ohlcv_data['datetime'], ohlcv_data['close'])\n",
    "plt.title(f'Closing Prices for {symbol}')\n",
    "plt.xlabel('Date')\n",
    "plt.ylabel('Price (USDT)')\n",
    "plt.xticks(rotation=45)\n",
    "plt.grid(True)\n",
    "plt.show()"
   ]
  },
  {
   "cell_type": "markdown",
   "metadata": {},
   "source": [
    "## Analyze Correlation Between Price and Funding Rate"
   ]
  },
  {
   "cell_type": "code",
   "execution_count": null,
   "metadata": {},
   "outputs": [],
   "source": [
    "# Merge OHLCV and funding rate data\n",
    "merged_data = pd.merge(ohlcv_data, historical_rates, left_on='datetime', right_on='datetime', how='inner')\n",
    "\n",
    "# Calculate correlation\n",
    "correlation = merged_data['close'].corr(merged_data['annualized_rate'])\n",
    "print(f\"Correlation between price and funding rate: {correlation:.2f}\")\n",
    "\n",
    "# Visualize\n",
    "plt.figure(figsize=(10, 6))\n",
    "plt.scatter(merged_data['close'], merged_data['annualized_rate'])\n",
    "plt.title(f'Price vs Funding Rate for {symbol}')\n",
    "plt.xlabel('Price (USDT)')\n",
    "plt.ylabel('Annualized Funding Rate (%)')\n",
    "plt.grid(True)\n",
    "plt.show()"
   ]
  }
 ],
 "metadata": {
  "kernelspec": {
   "display_name": "Python 3",
   "language": "python",
   "name": "python3"
  },
  "language_info": {
   "codemirror_mode": {
    "name": "ipython",
    "version": 3
   },
   "file_extension": ".py",
   "mimetype": "text/x-python",
   "name": "python",
   "nbconvert_exporter": "python",
   "pygments_lexer": "ipython3",
   "version": "3.9.6"
  }
 },
 "nbformat": 4,
 "nbformat_minor": 4
}
