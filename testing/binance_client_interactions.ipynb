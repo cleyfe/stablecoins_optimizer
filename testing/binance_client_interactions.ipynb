{
 "cells": [
  {
   "cell_type": "markdown",
   "metadata": {},
   "source": [
    "# Binance Client Test Notebook"
   ]
  },
  {
   "cell_type": "code",
   "execution_count": null,
   "metadata": {},
   "outputs": [],
   "source": [
    "import sys\n",
    "import os\n",
    "from datetime import datetime, timedelta\n",
    "import pandas as pd\n",
    "import matplotlib.pyplot as plt\n",
    "import seaborn as sns\n",
    "import threading\n",
    "import time\n",
    "\n",
    "# Add the src directory to the Python path\n",
    "sys.path.append(os.path.abspath(os.path.join('..', 'src')))\n",
    "\n",
    "from clients.binance_client import BinanceClient"
   ]
  },
  {
   "cell_type": "markdown",
   "metadata": {},
   "source": [
    "## Initialize Binance Client"
   ]
  },
  {
   "cell_type": "code",
   "execution_count": null,
   "metadata": {},
   "outputs": [],
   "source": [
    "# Initialize client\n",
    "client = BinanceClient(api_key=os.getenv('binance_api_key'), api_secret=os.getenv('binance_api_secret'), leverage=1, verbose=True)\n"
   ]
  },
  {
   "cell_type": "markdown",
   "metadata": {},
   "source": [
    "## Fetch Current Funding Rates"
   ]
  },
  {
   "cell_type": "code",
   "execution_count": null,
   "metadata": {},
   "outputs": [],
   "source": [
    "symbols = ['BTC/USDT:USDT', \n",
    "           'ETH/USDT:USDT', \n",
    "           'SOL/USDT:USDT', \n",
    "           'XRP/USDT:USDT', \n",
    "           'BNB/USDT:USDT', \n",
    "           'DOGE/USDT:USDT', \n",
    "           '1000PEPE/USDT:USDT', \n",
    "           'TON/USDT:USDT', \n",
    "           'AVAX/USDT:USDT', \n",
    "           'WIF/USDT:USDT', \n",
    "           'MATIC/USDT:USDT', \n",
    "           'AAVE/USDT:USDT', \n",
    "           'LINK/USDT:USDT', \n",
    "           'SUI/USDT:USDT', \n",
    "           'ADA/USDT:USDT']\n",
    "current_rates = client.get_current_funding_rates(symbols)\n",
    "print(\"Current Funding Rates:\")\n",
    "display(current_rates)"
   ]
  },
  {
   "cell_type": "markdown",
   "metadata": {},
   "source": [
    "## Visualize Current Funding Rates"
   ]
  },
  {
   "cell_type": "code",
   "execution_count": null,
   "metadata": {},
   "outputs": [],
   "source": [
    "plt.figure(figsize=(10, 6))\n",
    "current_rates_sorted = current_rates.sort_values(by='Annualized Funding Rate')\n",
    "sns.barplot(x='Symbol', y='Annualized Funding Rate', data=current_rates_sorted)\n",
    "plt.title('Current Annualized Funding Rates')\n",
    "plt.xticks(rotation=45)\n",
    "plt.show()"
   ]
  },
  {
   "cell_type": "markdown",
   "metadata": {},
   "source": [
    "## Fetch current positions and prices on Future and Spot"
   ]
  },
  {
   "cell_type": "code",
   "execution_count": null,
   "metadata": {},
   "outputs": [],
   "source": [
    "# Symbol for basis trade\n",
    "symbol = 'LINK/USDT'\n",
    "\n",
    "# Fetch spot position (last 24 hours by default)\n",
    "spot_position = client.fetch_spot_position(symbol)\n",
    "print(\"Spot Position (last 24 hours):\")\n",
    "display(pd.DataFrame([spot_position]))\n",
    "\n",
    "# If you want to change the time window, you can do so like this:\n",
    "# spot_position_48h = client.fetch_spot_position(symbol, time_window=48)\n",
    "# print(\"Spot Position (last 48 hours):\")\n",
    "# display(pd.DataFrame([spot_position_48h]))"
   ]
  },
  {
   "cell_type": "code",
   "execution_count": null,
   "metadata": {},
   "outputs": [],
   "source": [
    "# Fetch futures position\n",
    "futures_position = client.fetch_futures_position(symbol)\n",
    "print(\"Futures Position:\")\n",
    "display(pd.DataFrame([futures_position]))"
   ]
  },
  {
   "cell_type": "code",
   "execution_count": null,
   "metadata": {},
   "outputs": [],
   "source": [
    "# Calculate basis (sell fut, buy spot)\n",
    "if spot_position and futures_position:\n",
    "    basis = futures_position['current_price'] - spot_position['current_price']\n",
    "    basis_percentage = (basis / spot_position['current_price']) * 100\n",
    "    print(f\"Current Basis: {basis:.2f} USDT ({basis_percentage:.2f}%)\")\n"
   ]
  },
  {
   "cell_type": "code",
   "execution_count": null,
   "metadata": {},
   "outputs": [],
   "source": [
    "# Fetch current funding rate\n",
    "funding_rates = client.get_current_funding_rates([symbol])\n",
    "print(\"Current Funding Rate:\")\n",
    "display(funding_rates)"
   ]
  },
  {
   "cell_type": "code",
   "execution_count": null,
   "metadata": {},
   "outputs": [],
   "source": [
    "# Visualize the basis trade\n",
    "if spot_position and futures_position:\n",
    "    fig, (ax1, ax2, ax3) = plt.subplots(3, 1, figsize=(12, 15))\n",
    "    \n",
    "    # Plot positions\n",
    "    ax1.bar(['Spot', 'Futures'], [spot_position['amount'], futures_position['amount']], color=['blue', 'orange'])\n",
    "    ax1.set_title('Spot vs Futures Position Size')\n",
    "    ax1.set_ylabel('Amount')\n",
    "    \n",
    "    # Plot prices\n",
    "    ax2.bar(['Spot Entry', 'Spot Current', 'Futures Entry', 'Futures Current'], \n",
    "            [spot_position['entry_price'], spot_position['current_price'], \n",
    "             futures_position['entry_price'], futures_position['current_price']],\n",
    "            color=['lightblue', 'blue', 'orange', 'red'])\n",
    "    ax2.set_title('Entry vs Current Prices')\n",
    "    ax2.set_ylabel('Price (USDT)')\n",
    "    \n",
    "    # Plot last trade details\n",
    "    ax3.bar(['Last Trade Amount'], [spot_position['last_trade_amount']], color='green')\n",
    "    ax3.set_title(f\"Last Trade Details ({spot_position['last_trade_side']} at {spot_position['last_trade_time']})\")\n",
    "    ax3.set_ylabel('Amount')\n",
    "    \n",
    "    plt.tight_layout()\n",
    "    plt.show()"
   ]
  },
  {
   "cell_type": "markdown",
   "metadata": {},
   "source": [
    "## Backtest basis trade"
   ]
  },
  {
   "cell_type": "code",
   "execution_count": null,
   "metadata": {},
   "outputs": [],
   "source": [
    "symbol = 'REEF/USDT'\n",
    "\n",
    "# Get the last 1000 minutes of basis spread data\n",
    "basis_spread_df = client.calculate_basis_spread(symbol)\n",
    "basis_spread_df.to_csv('basis_spread.csv', index=False)\n",
    "\n",
    "# Print the last 10 rows\n",
    "print(basis_spread_df.tail(10))\n",
    "\n",
    "# Calculate average basis spread\n",
    "#average_spread = basis_spread_df['basis_spread_percentage'].mean()\n",
    "#print(f\"Average basis spread over the last 1000 minutes: {average_spread:.4f}%\")"
   ]
  },
  {
   "cell_type": "code",
   "execution_count": null,
   "metadata": {},
   "outputs": [],
   "source": [
    "symbols_to_monitor = ['REEFUSDT', '1000SATSUSDT', 'SUIUSDT', 'BAKEUSDT', 'ADAUSDT']\n",
    "\n",
    "# Start WebSocket streams\n",
    "client.start_websocket_streams(symbols_to_monitor)\n",
    "\n",
    "# Start monitoring basis spreads with custom settings\n",
    "threading.Thread(target=client.monitor_basis_spreads, args=(symbols_to_monitor, 0.004, -0.0005, 5, 300, False)).start()\n",
    "\n",
    "# Keep the main thread running\n",
    "while True:\n",
    "    time.sleep(1)"
   ]
  },
  {
   "cell_type": "markdown",
   "metadata": {},
   "source": [
    "## Live trade basis trade"
   ]
  },
  {
   "cell_type": "code",
   "execution_count": null,
   "metadata": {},
   "outputs": [
    {
     "name": "stdout",
     "output_type": "stream",
     "text": [
      "Still checking...\r"
     ]
    },
    {
     "name": "stderr",
     "output_type": "stream",
     "text": [
      "2024-09-06 18:44:16,083 - INFO - \n",
      "Current spreads at 2024-09-06 18:44:16:\n",
      "2024-09-06 18:44:16,085 - INFO - ARUSDT: -0.1843%\n",
      "2024-09-06 18:44:16,086 - INFO - 1000SATSUSDT: -0.0322%\n",
      "2024-09-06 18:44:16,086 - INFO - BAKEUSDT: -0.0763%\n",
      "2024-09-06 18:44:16,088 - INFO - ONEUSDT: -0.0943%\n",
      "2024-09-06 18:44:16,094 - INFO - ALPACAUSDT: -0.1054%\n",
      "2024-09-06 18:44:16,098 - INFO - TLMUSDT: -0.1828%\n",
      "2024-09-06 18:44:16,098 - INFO - PENDLEUSDT: -0.0682%\n",
      "2024-09-06 18:44:16,099 - INFO - SUNUSDT: -0.0980%\n",
      "2024-09-06 18:44:16,100 - INFO - ACEUSDT: -0.1009%\n",
      "2024-09-06 18:44:16,100 - INFO - VIDTUSDT: -0.0203%\n",
      "2024-09-06 18:44:16,101 - INFO - MBOXUSDT: 0.0000%\n",
      "2024-09-06 18:44:16,101 - INFO - SYSUSDT: 0.0000%\n",
      "2024-09-06 18:44:16,102 - INFO - PEOPLEUSDT: 0.0068%\n",
      "2024-09-06 18:44:16,103 - INFO - WIFUSDT: -0.0881%\n",
      "2024-09-06 18:44:16,103 - INFO - RDNTUSDT: -0.2178%\n"
     ]
    },
    {
     "name": "stdout",
     "output_type": "stream",
     "text": [
      "Still checking...\r"
     ]
    },
    {
     "name": "stderr",
     "output_type": "stream",
     "text": [
      "2024-09-06 18:45:16,144 - INFO - \n",
      "Current spreads at 2024-09-06 18:45:16:\n",
      "2024-09-06 18:45:16,146 - INFO - ARUSDT: -0.1843%\n",
      "2024-09-06 18:45:16,146 - INFO - 1000SATSUSDT: -0.0322%\n",
      "2024-09-06 18:45:16,147 - INFO - BAKEUSDT: -0.0763%\n",
      "2024-09-06 18:45:16,147 - INFO - ONEUSDT: -0.0943%\n",
      "2024-09-06 18:45:16,148 - INFO - ALPACAUSDT: -0.1054%\n",
      "2024-09-06 18:45:16,152 - INFO - TLMUSDT: -0.1828%\n",
      "2024-09-06 18:45:16,154 - INFO - PENDLEUSDT: -0.0682%\n",
      "2024-09-06 18:45:16,154 - INFO - SUNUSDT: -0.0980%\n",
      "2024-09-06 18:45:16,155 - INFO - ACEUSDT: -0.1009%\n",
      "2024-09-06 18:45:16,156 - INFO - VIDTUSDT: -0.0203%\n",
      "2024-09-06 18:45:16,156 - INFO - MBOXUSDT: 0.0000%\n",
      "2024-09-06 18:45:16,158 - INFO - SYSUSDT: 0.0000%\n",
      "2024-09-06 18:45:16,160 - INFO - PEOPLEUSDT: 0.0068%\n",
      "2024-09-06 18:45:16,160 - INFO - WIFUSDT: -0.0881%\n",
      "2024-09-06 18:45:16,161 - INFO - RDNTUSDT: -0.2178%\n"
     ]
    },
    {
     "name": "stdout",
     "output_type": "stream",
     "text": [
      "Still checking...\r"
     ]
    },
    {
     "name": "stderr",
     "output_type": "stream",
     "text": [
      "2024-09-06 18:46:16,211 - INFO - \n",
      "Current spreads at 2024-09-06 18:46:16:\n",
      "2024-09-06 18:46:16,212 - INFO - ARUSDT: -0.1843%\n",
      "2024-09-06 18:46:16,213 - INFO - 1000SATSUSDT: -0.0322%\n",
      "2024-09-06 18:46:16,213 - INFO - BAKEUSDT: -0.0763%\n",
      "2024-09-06 18:46:16,214 - INFO - ONEUSDT: -0.0943%\n",
      "2024-09-06 18:46:16,214 - INFO - ALPACAUSDT: -0.1054%\n",
      "2024-09-06 18:46:16,214 - INFO - TLMUSDT: -0.1828%\n",
      "2024-09-06 18:46:16,216 - INFO - PENDLEUSDT: -0.0682%\n",
      "2024-09-06 18:46:16,216 - INFO - SUNUSDT: -0.0980%\n",
      "2024-09-06 18:46:16,217 - INFO - ACEUSDT: -0.1009%\n",
      "2024-09-06 18:46:16,217 - INFO - VIDTUSDT: -0.0203%\n",
      "2024-09-06 18:46:16,218 - INFO - MBOXUSDT: 0.0000%\n",
      "2024-09-06 18:46:16,218 - INFO - SYSUSDT: 0.0000%\n",
      "2024-09-06 18:46:16,219 - INFO - PEOPLEUSDT: 0.0068%\n",
      "2024-09-06 18:46:16,220 - INFO - WIFUSDT: -0.0881%\n",
      "2024-09-06 18:46:16,220 - INFO - RDNTUSDT: -0.2178%\n"
     ]
    },
    {
     "name": "stdout",
     "output_type": "stream",
     "text": [
      "Still checking...\r"
     ]
    },
    {
     "name": "stderr",
     "output_type": "stream",
     "text": [
      "2024-09-06 18:47:16,276 - INFO - \n",
      "Current spreads at 2024-09-06 18:47:16:\n",
      "2024-09-06 18:47:16,277 - INFO - ARUSDT: -0.1843%\n",
      "2024-09-06 18:47:16,278 - INFO - 1000SATSUSDT: -0.0322%\n",
      "2024-09-06 18:47:16,279 - INFO - BAKEUSDT: -0.0763%\n",
      "2024-09-06 18:47:16,280 - INFO - ONEUSDT: -0.0943%\n",
      "2024-09-06 18:47:16,280 - INFO - ALPACAUSDT: -0.1054%\n",
      "2024-09-06 18:47:16,281 - INFO - TLMUSDT: -0.1828%\n",
      "2024-09-06 18:47:16,282 - INFO - PENDLEUSDT: -0.0682%\n",
      "2024-09-06 18:47:16,282 - INFO - SUNUSDT: -0.0980%\n",
      "2024-09-06 18:47:16,283 - INFO - ACEUSDT: -0.1009%\n",
      "2024-09-06 18:47:16,284 - INFO - VIDTUSDT: -0.0203%\n",
      "2024-09-06 18:47:16,285 - INFO - MBOXUSDT: 0.0000%\n",
      "2024-09-06 18:47:16,286 - INFO - SYSUSDT: 0.0000%\n",
      "2024-09-06 18:47:16,289 - INFO - PEOPLEUSDT: 0.0068%\n",
      "2024-09-06 18:47:16,289 - INFO - WIFUSDT: -0.0881%\n",
      "2024-09-06 18:47:16,291 - INFO - RDNTUSDT: -0.2178%\n"
     ]
    },
    {
     "name": "stdout",
     "output_type": "stream",
     "text": [
      "Still checking...\r"
     ]
    },
    {
     "name": "stderr",
     "output_type": "stream",
     "text": [
      "2024-09-06 18:48:16,339 - INFO - \n",
      "Current spreads at 2024-09-06 18:48:16:\n",
      "2024-09-06 18:48:16,341 - INFO - ARUSDT: -0.1843%\n",
      "2024-09-06 18:48:16,343 - INFO - 1000SATSUSDT: -0.0322%\n",
      "2024-09-06 18:48:16,344 - INFO - BAKEUSDT: -0.0763%\n",
      "2024-09-06 18:48:16,349 - INFO - ONEUSDT: -0.0943%\n",
      "2024-09-06 18:48:16,352 - INFO - ALPACAUSDT: -0.1054%\n",
      "2024-09-06 18:48:16,355 - INFO - TLMUSDT: -0.1828%\n",
      "2024-09-06 18:48:16,356 - INFO - PENDLEUSDT: -0.0682%\n",
      "2024-09-06 18:48:16,357 - INFO - SUNUSDT: -0.0980%\n",
      "2024-09-06 18:48:16,358 - INFO - ACEUSDT: -0.1009%\n",
      "2024-09-06 18:48:16,358 - INFO - VIDTUSDT: -0.0203%\n",
      "2024-09-06 18:48:16,359 - INFO - MBOXUSDT: 0.0000%\n",
      "2024-09-06 18:48:16,360 - INFO - SYSUSDT: 0.0000%\n",
      "2024-09-06 18:48:16,361 - INFO - PEOPLEUSDT: 0.0068%\n",
      "2024-09-06 18:48:16,362 - INFO - WIFUSDT: -0.0881%\n",
      "2024-09-06 18:48:16,362 - INFO - RDNTUSDT: -0.2178%\n"
     ]
    },
    {
     "name": "stdout",
     "output_type": "stream",
     "text": [
      "Still checking...\r"
     ]
    }
   ],
   "source": [
    "symbols_to_monitor = ['ARUSDT', '1000SATSUSDT', 'BAKEUSDT', \n",
    "                      'ONEUSDT', 'ALPACAUSDT', 'TLMUSDT', \n",
    "                      'PENDLEUSDT', 'SUNUSDT', 'ACEUSDT', \n",
    "                      'VIDTUSDT', 'MBOXUSDT', 'SYSUSDT',\n",
    "                      'PEOPLEUSDT', 'WIFUSDT', 'RDNTUSDT']\n",
    "#symbols_to_monitor = ['ALPACAUSDT']\n",
    "\n",
    "# Start WebSocket streams\n",
    "client.start_websocket_streams(symbols_to_monitor)\n",
    "\n",
    "# Start monitoring basis spreads\n",
    "threading.Thread(target=client.monitor_basis_spreads, args=(\n",
    "    symbols_to_monitor,\n",
    "    0.007,               # entry_threshold\n",
    "    0.0,                 # exit_threshold\n",
    "    5,                   # interval\n",
    "    60,                  # update_interval\n",
    "    False,               # log_all_prices\n",
    "    True,                # execute_trades\n",
    "    15,                   # trade_amount_usd\n",
    "    0.002                # slippage\n",
    ")).start()\n",
    "\n",
    "# Keep the main thread running\n",
    "try:\n",
    "    while True:\n",
    "        time.sleep(1)\n",
    "except KeyboardInterrupt:\n",
    "    print(\"Stopping the monitor...\")\n",
    "finally:\n",
    "    # Stop WebSocket streams\n",
    "    client.stop_websocket_streams()"
   ]
  },
  {
   "cell_type": "markdown",
   "metadata": {},
   "source": [
    "## Triangular arbitrage"
   ]
  },
  {
   "cell_type": "code",
   "execution_count": null,
   "metadata": {},
   "outputs": [],
   "source": [
    "BTCUSDT = 59493.45\n",
    "ETHBTC = 0.04245\n",
    "ETHUSDT = 2518.67\n",
    "\n",
    "USDT = 15\n",
    "USDT_1 = 15 / BTCUSDT\n",
    "#print(USDT_1)\n",
    "\n",
    "USDT_2 = USDT_1 / ETHBTC\n",
    "#print(USDT_2)\n",
    "\n",
    "USDT_3 = USDT_2 * ETHUSDT\n",
    "print(USDT_3)\n",
    "\n"
   ]
  },
  {
   "cell_type": "code",
   "execution_count": null,
   "metadata": {},
   "outputs": [],
   "source": [
    "#e.g. symbols 'ARUSDT', '1000SATSUSDT', 'BAKEUSDT', 'ONEUSDT', 'ALPACAUSDT', 'TLMUSDT', \n",
    "# 'PENDLEUSDT', 'SUNUSDT', 'ACEUSDT', 'VIDTUSDT', 'MBOXUSDT', 'SYSUSDT','PEOPLEUSDT', 'WIFUSDT', 'RDNTUSDT'\n",
    "\n",
    "client.monitor_triangular_arbitrage(\n",
    "    # Need to be in the right order!!\n",
    "    symbol_triplet=['BTCUSDT', 'ETHBTC', 'ETHUSDT'],\n",
    "    trades=['buy', 'buy', 'sell'],\n",
    "    profit_threshold=0.002,  # 0.2% profit threshold\n",
    "    interval=5,\n",
    "    update_interval=10,\n",
    "    execute_trades=True,\n",
    "    trade_amount=15.0,\n",
    "    max_slippage=0.001,\n",
    ")"
   ]
  },
  {
   "cell_type": "markdown",
   "metadata": {},
   "source": [
    "## Get OHLCV data"
   ]
  },
  {
   "cell_type": "code",
   "execution_count": null,
   "metadata": {},
   "outputs": [],
   "source": [
    "symbol = 'BTC/USDT:USDT'\n",
    "start_time = datetime.now() - timedelta(days=30)  # Last 30 days\n",
    "ohlcv_data = client.get_ohlcv(symbol, timeframe='1d', since=start_time, limit=30)\n",
    "display(ohlcv_data)"
   ]
  },
  {
   "cell_type": "markdown",
   "metadata": {},
   "source": [
    "## Fetch Historical Funding Rates"
   ]
  },
  {
   "cell_type": "code",
   "execution_count": null,
   "metadata": {},
   "outputs": [],
   "source": [
    "start_time = datetime.now() - timedelta(days=30)\n",
    "start_time.timestamp() * 1000"
   ]
  },
  {
   "cell_type": "code",
   "execution_count": null,
   "metadata": {},
   "outputs": [],
   "source": [
    "# Fetch Historical Funding Rates\n",
    "symbol = 'BTC/USDT:USDT'\n",
    "# Define start_time as a datetime object\n",
    "start_time = datetime.now() - timedelta(days=30)\n",
    "# Define end_time as the current datetime\n",
    "end_time = datetime.now()\n",
    "\n",
    "# Pass both datetime objects to the method\n",
    "historical_rates = client.get_historical_funding_rates(symbol, start_time, end_time)\n",
    "print(\"Historical Funding Rates:\")\n",
    "display(historical_rates.head())"
   ]
  },
  {
   "cell_type": "markdown",
   "metadata": {},
   "source": [
    "## Visualize Historical Funding Rates"
   ]
  },
  {
   "cell_type": "code",
   "execution_count": null,
   "metadata": {},
   "outputs": [],
   "source": [
    "plt.figure(figsize=(12, 6))\n",
    "plt.plot(historical_rates['datetime'], historical_rates['annualized_rate'])\n",
    "plt.title(f'Historical Annualized Funding Rates for {symbol}')\n",
    "plt.xlabel('Date')\n",
    "plt.ylabel('Annualized Funding Rate (%)')\n",
    "plt.xticks(rotation=45)\n",
    "plt.grid(True)\n",
    "plt.show()"
   ]
  },
  {
   "cell_type": "markdown",
   "metadata": {},
   "source": [
    "## Fetch OHLCV Data"
   ]
  },
  {
   "cell_type": "code",
   "execution_count": null,
   "metadata": {},
   "outputs": [],
   "source": [
    "ohlcv_data = client.get_ohlcv(symbol, '1d', since=start_time)\n",
    "print(\"OHLCV Data:\")\n",
    "display(ohlcv_data.head())"
   ]
  },
  {
   "cell_type": "markdown",
   "metadata": {},
   "source": [
    "## Visualize OHLCV Data"
   ]
  },
  {
   "cell_type": "code",
   "execution_count": null,
   "metadata": {},
   "outputs": [],
   "source": [
    "plt.figure(figsize=(12, 6))\n",
    "plt.plot(ohlcv_data['datetime'], ohlcv_data['close'])\n",
    "plt.title(f'Closing Prices for {symbol}')\n",
    "plt.xlabel('Date')\n",
    "plt.ylabel('Price (USDT)')\n",
    "plt.xticks(rotation=45)\n",
    "plt.grid(True)\n",
    "plt.show()"
   ]
  },
  {
   "cell_type": "markdown",
   "metadata": {},
   "source": [
    "## Analyze Correlation Between Price and Funding Rate"
   ]
  },
  {
   "cell_type": "code",
   "execution_count": null,
   "metadata": {},
   "outputs": [],
   "source": [
    "# Merge OHLCV and funding rate data\n",
    "merged_data = pd.merge(ohlcv_data, historical_rates, left_on='datetime', right_on='datetime', how='inner')\n",
    "\n",
    "# Calculate correlation\n",
    "correlation = merged_data['close'].corr(merged_data['annualized_rate'])\n",
    "print(f\"Correlation between price and funding rate: {correlation:.2f}\")\n",
    "\n",
    "# Visualize\n",
    "plt.figure(figsize=(10, 6))\n",
    "plt.scatter(merged_data['close'], merged_data['annualized_rate'])\n",
    "plt.title(f'Price vs Funding Rate for {symbol}')\n",
    "plt.xlabel('Price (USDT)')\n",
    "plt.ylabel('Annualized Funding Rate (%)')\n",
    "plt.grid(True)\n",
    "plt.show()"
   ]
  }
 ],
 "metadata": {
  "kernelspec": {
   "display_name": "Python 3",
   "language": "python",
   "name": "python3"
  },
  "language_info": {
   "codemirror_mode": {
    "name": "ipython",
    "version": 3
   },
   "file_extension": ".py",
   "mimetype": "text/x-python",
   "name": "python",
   "nbconvert_exporter": "python",
   "pygments_lexer": "ipython3",
   "version": "3.9.6"
  }
 },
 "nbformat": 4,
 "nbformat_minor": 4
}
