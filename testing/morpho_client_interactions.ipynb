{
 "cells": [
  {
   "cell_type": "code",
   "execution_count": null,
   "metadata": {},
   "outputs": [],
   "source": [
    "import os\n",
    "import sys\n",
    "import asyncio\n",
    "from async_timeout import timeout\n",
    "import json\n",
    "\n",
    "# Add the project root directory to the Python path\n",
    "project_root = os.path.abspath(os.path.join(os.getcwd(), '..'))\n",
    "sys.path.insert(0, project_root)\n",
    "\n",
    "from src.clients.morpho_client import MorphoClient\n",
    "\n",
    "\n",
    "async def run_with_timeout(coro, timeout_seconds=10):\n",
    "    async with timeout(timeout_seconds):\n",
    "        return await coro\n"
   ]
  },
  {
   "cell_type": "code",
   "execution_count": null,
   "metadata": {},
   "outputs": [],
   "source": [
    "# Setup client\n",
    "RPC = \"ETHEREUM\"  # ARBITRUM or ETHEREUM\n",
    "RPC_URL = os.getenv(f\"{RPC}_RPC_URL\")\n",
    "user_address = os.getenv('WALLET_ADDRESS')\n",
    "\n",
    "# Initialize client\n",
    "morpho_client = MorphoClient(wallet_address=user_address,\n",
    "                             private_key=os.getenv('PRIVATE_WALLET_KEY'),\n",
    "                             network=RPC,\n",
    "                             rpc_url=RPC_URL)"
   ]
  },
  {
   "cell_type": "code",
   "execution_count": null,
   "metadata": {},
   "outputs": [],
   "source": [
    "# Test get the smart contracts:\n",
    "morpho_blue = morpho_client._get_morpho_contract()\n",
    "print(morpho_blue.address)\n",
    "\n",
    "morpho_irm = morpho_client._get_irm_contract()\n",
    "print(morpho_irm.address)"
   ]
  },
  {
   "cell_type": "markdown",
   "metadata": {},
   "source": [
    "### Fetch a single market information"
   ]
  },
  {
   "cell_type": "code",
   "execution_count": null,
   "metadata": {},
   "outputs": [],
   "source": [
    "market_key = 'wstETH-USDT1' # see utils.morpho_markets for all available markets\n",
    "market_id = morpho_client.get_market_info(market_key)\n",
    "print(market_id)"
   ]
  },
  {
   "cell_type": "code",
   "execution_count": null,
   "metadata": {},
   "outputs": [],
   "source": [
    "markets_data = await run_with_timeout(morpho_client.fetch_market_data(market_id, user_address))\n",
    "markets_data"
   ]
  },
  {
   "cell_type": "markdown",
   "metadata": {},
   "source": [
    "### Fetch many markets information"
   ]
  },
  {
   "cell_type": "code",
   "execution_count": null,
   "metadata": {},
   "outputs": [],
   "source": [
    "# List of market keys you want to fetch data for\n",
    "market_keys = ['wstETH-USDT1', 'wstETH-USDT2', 'wstETH-USDC', 'wstETH-DAI', 'wstETH-USDA']\n",
    "\n",
    "# Get market IDs for all markets\n",
    "market_ids = [morpho_client.get_market_info(key) for key in market_keys]\n",
    "\n",
    "# Fetch data for all markets\n",
    "markets_data = await run_with_timeout(morpho_client.fetch_all_markets_data(market_ids, user_address))\n",
    "\n",
    "# Print or process the results\n",
    "for key, data in zip(market_keys, markets_data.values()):\n",
    "    print(f\"Market: {key}\")\n",
    "    print(json.dumps(data, indent=2))\n",
    "    print(\"\\n\")"
   ]
  }
 ],
 "metadata": {
  "kernelspec": {
   "display_name": ".venv",
   "language": "python",
   "name": "python3"
  },
  "language_info": {
   "codemirror_mode": {
    "name": "ipython",
    "version": 3
   },
   "file_extension": ".py",
   "mimetype": "text/x-python",
   "name": "python",
   "nbconvert_exporter": "python",
   "pygments_lexer": "ipython3",
   "version": "3.9.6"
  }
 },
 "nbformat": 4,
 "nbformat_minor": 2
}
