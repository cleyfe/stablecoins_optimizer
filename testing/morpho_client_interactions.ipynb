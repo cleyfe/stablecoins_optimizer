{
 "cells": [
  {
   "cell_type": "code",
   "execution_count": 1,
   "metadata": {},
   "outputs": [
    {
     "name": "stderr",
     "output_type": "stream",
     "text": [
      "/Users/cleme/stablecoins_optimizer/.venv/lib/python3.9/site-packages/urllib3/__init__.py:35: NotOpenSSLWarning: urllib3 v2 only supports OpenSSL 1.1.1+, currently the 'ssl' module is compiled with 'LibreSSL 2.8.3'. See: https://github.com/urllib3/urllib3/issues/3020\n",
      "  warnings.warn(\n"
     ]
    }
   ],
   "source": [
    "import os\n",
    "import sys\n",
    "import asyncio\n",
    "from async_timeout import timeout\n",
    "\n",
    "# Add the project root directory to the Python path\n",
    "project_root = os.path.abspath(os.path.join(os.getcwd(), '..'))\n",
    "sys.path.insert(0, project_root)\n",
    "\n",
    "from src.clients.morpho_client import MorphoClient\n",
    "\n",
    "\n",
    "async def run_with_timeout(coro, timeout_seconds=10):\n",
    "    async with timeout(timeout_seconds):\n",
    "        return await coro\n"
   ]
  },
  {
   "cell_type": "code",
   "execution_count": 2,
   "metadata": {},
   "outputs": [],
   "source": [
    "# Setup client\n",
    "RPC = \"ETHEREUM\"  # ARBITRUM or ETHEREUM\n",
    "RPC_URL = os.getenv(f\"{RPC}_RPC_URL\")\n",
    "user_address = os.getenv('WALLET_ADDRESS')\n",
    "\n",
    "# Initialize client\n",
    "morpho_client = MorphoClient(wallet_address=user_address,\n",
    "                             private_key=os.getenv('PRIVATE_WALLET_KEY'),\n",
    "                             network=RPC,\n",
    "                             rpc_url=RPC_URL)"
   ]
  },
  {
   "cell_type": "code",
   "execution_count": 3,
   "metadata": {},
   "outputs": [
    {
     "name": "stdout",
     "output_type": "stream",
     "text": [
      "0xBBBBBbbBBb9cC5e90e3b3Af64bdAF62C37EEFFCb\n",
      "0x870aC11D48B15DB9a138Cf899d20F13F79Ba00BC\n"
     ]
    }
   ],
   "source": [
    "# Test get the smart contracts:\n",
    "morpho_blue = morpho_client._get_morpho_contract()\n",
    "print(morpho_blue.address)\n",
    "\n",
    "morpho_irm = morpho_client._get_irm_contract()\n",
    "print(morpho_irm.address)"
   ]
  },
  {
   "cell_type": "code",
   "execution_count": 4,
   "metadata": {},
   "outputs": [
    {
     "name": "stdout",
     "output_type": "stream",
     "text": [
      "0xe7e9694b754c4d4f7e21faf7223f6fa71abaeb10296a4c43a54a7977149687d2\n"
     ]
    }
   ],
   "source": [
    "market_key = 'wstETH-USDT1' # see utils.morpho_markets for all available markets\n",
    "market_id = morpho_client.get_market_info(market_key)\n",
    "print(market_id)"
   ]
  },
  {
   "cell_type": "code",
   "execution_count": 5,
   "metadata": {},
   "outputs": [
    {
     "name": "stdout",
     "output_type": "stream",
     "text": [
      "market_params: MarketParams(loan_token='0xdAC17F958D2ee523a2206206994597C13D831ec7', collateral_token='0x7f39C581F595B53c5cb19bD0b3f8dA6c935E2Ca0', oracle='0x95DB30fAb9A3754e42423000DF27732CB2396992', irm='0x870aC11D48B15DB9a138Cf899d20F13F79Ba00BC', lltv=860000000000000000)\n",
      "market_state: MarketState(total_supply_assets=3654739614950, total_supply_shares=3510469868396203233, total_borrow_assets=2238831283747, total_borrow_shares=2137429323384462774, last_update=1724281283, fee=0)\n",
      "position_user: UserPosition(supply_shares=0, borrow_shares=0, collateral=0)\n",
      "borrow_rate 880019351\n"
     ]
    },
    {
     "data": {
      "text/plain": [
       "{'supply_apy': 1e-18,\n",
       " 'borrow_apy': 1.0000000008800194,\n",
       " 'borrow_assets_user': 0,\n",
       " 'market_total_supply': 5893570898700,\n",
       " 'market_total_borrow': 4477662567497,\n",
       " 'health_factor': 1.1579208923731619e+41,\n",
       " 'is_healthy': True}"
      ]
     },
     "execution_count": 5,
     "metadata": {},
     "output_type": "execute_result"
    }
   ],
   "source": [
    "markets_data = await run_with_timeout(morpho_client.fetch_market_data(market_id, user_address))\n",
    "markets_data"
   ]
  },
  {
   "cell_type": "code",
   "execution_count": null,
   "metadata": {},
   "outputs": [],
   "source": []
  }
 ],
 "metadata": {
  "kernelspec": {
   "display_name": ".venv",
   "language": "python",
   "name": "python3"
  },
  "language_info": {
   "codemirror_mode": {
    "name": "ipython",
    "version": 3
   },
   "file_extension": ".py",
   "mimetype": "text/x-python",
   "name": "python",
   "nbconvert_exporter": "python",
   "pygments_lexer": "ipython3",
   "version": "3.9.6"
  }
 },
 "nbformat": 4,
 "nbformat_minor": 2
}
