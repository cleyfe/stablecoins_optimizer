{
 "cells": [
  {
   "cell_type": "code",
   "execution_count": 14,
   "metadata": {},
   "outputs": [],
   "source": [
    "import os\n",
    "import sys\n",
    "import asyncio\n",
    "from async_timeout import timeout\n",
    "import json\n",
    "\n",
    "# Add the project root directory to the Python path\n",
    "project_root = os.path.abspath(os.path.join(os.getcwd(), '..'))\n",
    "sys.path.insert(0, project_root)\n",
    "\n",
    "from src.clients.morpho_client import MorphoClient\n",
    "\n",
    "\n",
    "async def run_with_timeout(coro, timeout_seconds=10):\n",
    "    async with timeout(timeout_seconds):\n",
    "        return await coro\n"
   ]
  },
  {
   "cell_type": "code",
   "execution_count": 15,
   "metadata": {},
   "outputs": [],
   "source": [
    "# Setup client\n",
    "RPC = \"ETHEREUM\"  # ARBITRUM or ETHEREUM\n",
    "RPC_URL = os.getenv(f\"{RPC}_RPC_URL\")\n",
    "user_address = os.getenv('WALLET_ADDRESS')\n",
    "\n",
    "# Initialize client\n",
    "morpho_client = MorphoClient(wallet_address=user_address,\n",
    "                             private_key=os.getenv('PRIVATE_WALLET_KEY'),\n",
    "                             network=RPC,\n",
    "                             rpc_url=RPC_URL)"
   ]
  },
  {
   "cell_type": "code",
   "execution_count": 16,
   "metadata": {},
   "outputs": [
    {
     "name": "stdout",
     "output_type": "stream",
     "text": [
      "0xBBBBBbbBBb9cC5e90e3b3Af64bdAF62C37EEFFCb\n",
      "0x870aC11D48B15DB9a138Cf899d20F13F79Ba00BC\n"
     ]
    }
   ],
   "source": [
    "# Test get the smart contracts:\n",
    "morpho_blue = morpho_client._get_morpho_contract()\n",
    "print(morpho_blue.address)\n",
    "\n",
    "morpho_irm = morpho_client._get_irm_contract()\n",
    "print(morpho_irm.address)"
   ]
  },
  {
   "cell_type": "markdown",
   "metadata": {},
   "source": [
    "### Fetch a single market information"
   ]
  },
  {
   "cell_type": "code",
   "execution_count": 20,
   "metadata": {},
   "outputs": [
    {
     "name": "stdout",
     "output_type": "stream",
     "text": [
      "0xe7e9694b754c4d4f7e21faf7223f6fa71abaeb10296a4c43a54a7977149687d2\n"
     ]
    }
   ],
   "source": [
    "market_key = 'wstETH-USDT1' # see utils.morpho_markets for all available markets\n",
    "market_id = morpho_client.get_market_info(market_key)\n",
    "print(market_id)"
   ]
  },
  {
   "cell_type": "code",
   "execution_count": 21,
   "metadata": {},
   "outputs": [
    {
     "name": "stdout",
     "output_type": "stream",
     "text": [
      "market_params: MarketParams(loan_token='0xdAC17F958D2ee523a2206206994597C13D831ec7', collateral_token='0x7f39C581F595B53c5cb19bD0b3f8dA6c935E2Ca0', oracle='0x95DB30fAb9A3754e42423000DF27732CB2396992', irm='0x870aC11D48B15DB9a138Cf899d20F13F79Ba00BC', lltv=860000000000000000)\n",
      "position_user: UserPosition(supply_shares=0, borrow_shares=0, collateral=0)\n"
     ]
    },
    {
     "data": {
      "text/plain": [
       "{'supply_apy': 0.016405800664243676,\n",
       " 'borrow_apy': 0.02678261686958068,\n",
       " 'borrow_assets_user': 0,\n",
       " 'market_total_supply': 3656123802523,\n",
       " 'market_total_borrow': 2239573474096,\n",
       " 'health_factor': 1.1579208923731619e+41,\n",
       " 'is_healthy': True}"
      ]
     },
     "execution_count": 21,
     "metadata": {},
     "output_type": "execute_result"
    }
   ],
   "source": [
    "markets_data = await run_with_timeout(morpho_client.fetch_market_data(market_id, user_address))\n",
    "markets_data"
   ]
  },
  {
   "cell_type": "markdown",
   "metadata": {},
   "source": [
    "### Fetch many markets information"
   ]
  },
  {
   "cell_type": "code",
   "execution_count": 19,
   "metadata": {},
   "outputs": [
    {
     "name": "stdout",
     "output_type": "stream",
     "text": [
      "market_params: MarketParams(loan_token='0xdAC17F958D2ee523a2206206994597C13D831ec7', collateral_token='0x7f39C581F595B53c5cb19bD0b3f8dA6c935E2Ca0', oracle='0x95DB30fAb9A3754e42423000DF27732CB2396992', irm='0x870aC11D48B15DB9a138Cf899d20F13F79Ba00BC', lltv=860000000000000000)\n",
      "position_user: UserPosition(supply_shares=0, borrow_shares=0, collateral=0)\n",
      "market_params: MarketParams(loan_token='0xdAC17F958D2ee523a2206206994597C13D831ec7', collateral_token='0x7f39C581F595B53c5cb19bD0b3f8dA6c935E2Ca0', oracle='0xA1bDbfD967620332b9Fd7D60885e19EBBE49B882', irm='0x870aC11D48B15DB9a138Cf899d20F13F79Ba00BC', lltv=860000000000000000)\n",
      "position_user: UserPosition(supply_shares=0, borrow_shares=0, collateral=0)\n",
      "market_params: MarketParams(loan_token='0xA0b86991c6218b36c1d19D4a2e9Eb0cE3606eB48', collateral_token='0x7f39C581F595B53c5cb19bD0b3f8dA6c935E2Ca0', oracle='0x48F7E36EB6B826B2dF4B2E630B62Cd25e89E40e2', irm='0x870aC11D48B15DB9a138Cf899d20F13F79Ba00BC', lltv=860000000000000000)\n",
      "position_user: UserPosition(supply_shares=0, borrow_shares=0, collateral=0)\n",
      "market_params: MarketParams(loan_token='0x6B175474E89094C44Da98b954EedeAC495271d0F', collateral_token='0x7f39C581F595B53c5cb19bD0b3f8dA6c935E2Ca0', oracle='0xb6F9A5da6dFA52Dc8F61592E83d22502C65D3bC8', irm='0x870aC11D48B15DB9a138Cf899d20F13F79Ba00BC', lltv=860000000000000000)\n",
      "position_user: UserPosition(supply_shares=0, borrow_shares=0, collateral=0)\n",
      "market_params: MarketParams(loan_token='0x0000206329b97DB379d5E1Bf586BbDB969C63274', collateral_token='0x7f39C581F595B53c5cb19bD0b3f8dA6c935E2Ca0', oracle='0xBC693693fDBB177Ad05ff38633110016BC043AC5', irm='0x870aC11D48B15DB9a138Cf899d20F13F79Ba00BC', lltv=860000000000000000)\n",
      "position_user: UserPosition(supply_shares=0, borrow_shares=0, collateral=0)\n",
      "Market: wstETH-USDT1\n",
      "{\n",
      "  \"supply_apy\": 0.01640595199065992,\n",
      "  \"borrow_apy\": 0.026782864224399412,\n",
      "  \"borrow_assets_user\": 0,\n",
      "  \"market_total_supply\": 3656123734952,\n",
      "  \"market_total_borrow\": 2239573406525,\n",
      "  \"health_factor\": 1.1579208923731619e+41,\n",
      "  \"is_healthy\": true\n",
      "}\n",
      "\n",
      "\n",
      "Market: wstETH-USDT2\n",
      "{\n",
      "  \"supply_apy\": 0.05449458863242052,\n",
      "  \"borrow_apy\": 0.059140768219844854,\n",
      "  \"borrow_assets_user\": 0,\n",
      "  \"market_total_supply\": 100771249830,\n",
      "  \"market_total_borrow\": 92854522705,\n",
      "  \"health_factor\": 1.1579208923731619e+41,\n",
      "  \"is_healthy\": true\n",
      "}\n",
      "\n",
      "\n",
      "Market: wstETH-USDC\n",
      "{\n",
      "  \"supply_apy\": 0.04573461669363156,\n",
      "  \"borrow_apy\": 0.05054561767488176,\n",
      "  \"borrow_assets_user\": 0,\n",
      "  \"market_total_supply\": 28806874587272,\n",
      "  \"market_total_borrow\": 26064996887853,\n",
      "  \"health_factor\": 1.1579208923731619e+41,\n",
      "  \"is_healthy\": true\n",
      "}\n",
      "\n",
      "\n",
      "Market: wstETH-DAI\n",
      "{\n",
      "  \"supply_apy\": 0.03423367499683444,\n",
      "  \"borrow_apy\": 0.03800916730996492,\n",
      "  \"borrow_assets_user\": 0,\n",
      "  \"market_total_supply\": 1006862688119177635,\n",
      "  \"market_total_borrow\": 906849912033571952,\n",
      "  \"health_factor\": 1.1579208923731619e+41,\n",
      "  \"is_healthy\": true\n",
      "}\n",
      "\n",
      "\n",
      "Market: wstETH-USDA\n",
      "{\n",
      "  \"supply_apy\": 0.032654206531157595,\n",
      "  \"borrow_apy\": 0.036447476168702676,\n",
      "  \"borrow_assets_user\": 0,\n",
      "  \"market_total_supply\": 3749272924242603396007170,\n",
      "  \"market_total_borrow\": 3359067493266515569576109,\n",
      "  \"health_factor\": 1.1579208923731619e+41,\n",
      "  \"is_healthy\": true\n",
      "}\n",
      "\n",
      "\n"
     ]
    }
   ],
   "source": [
    "# List of market keys you want to fetch data for\n",
    "market_keys = ['wstETH-USDT1', 'wstETH-USDT2', 'wstETH-USDC', 'wstETH-DAI', 'wstETH-USDA']\n",
    "\n",
    "# Get market IDs for all markets\n",
    "market_ids = [morpho_client.get_market_info(key) for key in market_keys]\n",
    "\n",
    "# Fetch data for all markets\n",
    "markets_data = await run_with_timeout(morpho_client.fetch_all_markets_data(market_ids, user_address))\n",
    "\n",
    "# Print or process the results\n",
    "for key, data in zip(market_keys, markets_data.values()):\n",
    "    print(f\"Market: {key}\")\n",
    "    print(json.dumps(data, indent=2))\n",
    "    print(\"\\n\")"
   ]
  }
 ],
 "metadata": {
  "kernelspec": {
   "display_name": ".venv",
   "language": "python",
   "name": "python3"
  },
  "language_info": {
   "codemirror_mode": {
    "name": "ipython",
    "version": 3
   },
   "file_extension": ".py",
   "mimetype": "text/x-python",
   "name": "python",
   "nbconvert_exporter": "python",
   "pygments_lexer": "ipython3",
   "version": "3.9.6"
  }
 },
 "nbformat": 4,
 "nbformat_minor": 2
}
