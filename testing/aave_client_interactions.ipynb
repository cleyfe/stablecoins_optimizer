{
 "cells": [
  {
   "cell_type": "code",
   "execution_count": 2,
   "metadata": {},
   "outputs": [],
   "source": [
    "import os\n",
    "import sys\n",
    "\n",
    "# Add the project root directory to the Python path\n",
    "project_root = os.path.abspath(os.path.join(os.getcwd(), '..'))\n",
    "sys.path.insert(0, project_root)\n",
    "\n",
    "import pandas as pd\n",
    "import math\n",
    "import datetime\n",
    "import time\n",
    "from eth_utils import to_bytes, to_int\n",
    "import requests\n",
    "from pprint import pprint\n",
    "\n",
    "from src.clients.aave_client import AaveClient\n"
   ]
  },
  {
   "cell_type": "code",
   "execution_count": 3,
   "metadata": {},
   "outputs": [],
   "source": [
    "# Setup client\n",
    "RPC = \"ARBITRUM\"  # or POLYGON, ETHEREUM, KOVAN, MUMBAI\n",
    "RPC_URL = os.getenv(f\"{RPC}_RPC_URL\")"
   ]
  },
  {
   "cell_type": "code",
   "execution_count": 4,
   "metadata": {},
   "outputs": [
    {
     "name": "stdout",
     "output_type": "stream",
     "text": [
      "0x794a61358D6845594F94dc1DB02A252b5b4814aD\n"
     ]
    }
   ],
   "source": [
    "# Initialize Client:\n",
    "aave_client = AaveClient(wallet_address=os.getenv('WALLET_ADDRESS'),\n",
    "                         private_key=os.getenv('PRIVATE_WALLET_KEY'),\n",
    "                         network=RPC,\n",
    "                         rpc_url=RPC_URL,\n",
    "                         gas_strategy=\"medium\")\n",
    "\n",
    "# Get the lending pool smart contract:\n",
    "lending_pool = aave_client.get_lending_pool()\n",
    "print(lending_pool.address)"
   ]
  },
  {
   "cell_type": "code",
   "execution_count": 5,
   "metadata": {},
   "outputs": [
    {
     "name": "stdout",
     "output_type": "stream",
     "text": [
      "Available borrow: 0.0, Total debt: 0.0, Total collateral: 0.0\n"
     ]
    }
   ],
   "source": [
    "# Wallet data\n",
    "available_borrow_base, total_debt_base, total_collateral_base = aave_client.get_user_data(lending_pool)\n",
    "print(f\"Available borrow: {available_borrow_base}, Total debt: {total_debt_base}, Total collateral: {total_collateral_base}\")"
   ]
  },
  {
   "cell_type": "code",
   "execution_count": 7,
   "metadata": {},
   "outputs": [
    {
     "name": "stdout",
     "output_type": "stream",
     "text": [
      "All reserve tokens: [('DAI', '0xDA10009cBd5D07dd0CeCc66161FC93D7c9000da1'), ('LINK', '0xf97f4df75117a78c1A5a0DBb814Af92458539FB4'), ('USDC', '0xFF970A61A04b1cA14834A43f5dE4533eBDDB5CC8'), ('WBTC', '0x2f2a2543B76A4166549F7aaB2e75Bef0aefC5B0f'), ('WETH', '0x82aF49447D8a07e3bd95BD0d56f35241523fBab1'), ('USDT', '0xFd086bC7CD5C481DCC9C85ebE478A1C0b69FCbb9'), ('AAVE', '0xba5DdD1f9d7F570dc94a51479a000E3BCE967196'), ('EURS', '0xD22a58f79e9481D1a88e00c343885A588b34b68B'), ('wstETH', '0x5979D7b546E38E414F7E9822514be443A4800529'), ('MAI', '0x3F56e0c36d275367b8C502090EDF38289b3dEa0d'), ('rETH', '0xEC70Dcb4A1EFa46b8F2D97C310C9c4790ba5ffA8'), ('LUSD', '0x93b346b6BC2548dA6A1E7d98E9a421B42541425b'), ('USDC', '0xaf88d065e77c8cC2239327C5EDb3A432268e5831'), ('FRAX', '0x17FC002b466eEc40DaE837Fc4bE5c67993ddBd6F'), ('ARB', '0x912CE59144191C1204E64559FE8253a0e49E6548'), ('weETH', '0x35751007a407ca6FEFfE80b3cB397736D2cf4dbe'), ('GHO', '0x7dfF72693f6A4149b17e7C6314655f6A9F7c8B33')]\n",
      "User reserve data: [0, 0, 0, 0, 0, 0, 44671146283637647950449429, 0, False]\n"
     ]
    }
   ],
   "source": [
    "# Call protocol functions\n",
    "assets = aave_client.get_protocol_data(\"getAllReservesTokens\")\n",
    "print(\"All reserve tokens:\", assets)\n",
    "\n",
    "asset_address = '0xFd086bC7CD5C481DCC9C85ebE478A1C0b69FCbb9'\n",
    "user_address = os.getenv('WALLET_ADDRESS')\n",
    "\n",
    "user_reserves = aave_client.get_protocol_data(\"getUserReserveData\", asset_address, user_address)\n",
    "print(\"User reserve data:\", user_reserves)"
   ]
  },
  {
   "cell_type": "code",
   "execution_count": 8,
   "metadata": {},
   "outputs": [
    {
     "name": "stdout",
     "output_type": "stream",
     "text": [
      "                                           symbol  currentLiquidityRate  \\\n",
      "0xDA10009cBd5D07dd0CeCc66161FC93D7c9000da1    DAI              4.074556   \n",
      "0xFF970A61A04b1cA14834A43f5dE4533eBDDB5CC8   USDC              3.229428   \n",
      "0xFd086bC7CD5C481DCC9C85ebE478A1C0b69FCbb9   USDT              4.467115   \n",
      "0xaf88d065e77c8cC2239327C5EDb3A432268e5831   USDC              3.637939   \n",
      "\n",
      "                                            currentVariableBorrowRate  \\\n",
      "0xDA10009cBd5D07dd0CeCc66161FC93D7c9000da1                   6.263902   \n",
      "0xFF970A61A04b1cA14834A43f5dE4533eBDDB5CC8                   5.990203   \n",
      "0xFd086bC7CD5C481DCC9C85ebE478A1C0b69FCbb9                   5.987254   \n",
      "0xaf88d065e77c8cC2239327C5EDb3A432268e5831                   6.357794   \n",
      "\n",
      "                                           lastUpdateTimestamp  \n",
      "0xDA10009cBd5D07dd0CeCc66161FC93D7c9000da1 2024-08-22 07:41:22  \n",
      "0xFF970A61A04b1cA14834A43f5dE4533eBDDB5CC8 2024-08-22 07:45:23  \n",
      "0xFd086bC7CD5C481DCC9C85ebE478A1C0b69FCbb9 2024-08-22 07:45:23  \n",
      "0xaf88d065e77c8cC2239327C5EDb3A432268e5831 2024-08-22 07:44:57  \n"
     ]
    }
   ],
   "source": [
    "# Call pool functions\n",
    "assets_symbols = ['DAI', 'USDC', 'USDT']\n",
    "filtered_assets = [asset for asset in assets if asset[0] in assets_symbols]\n",
    "\n",
    "df = pd.DataFrame(columns=['symbol', 'currentLiquidityRate', 'currentVariableBorrowRate', 'lastUpdateTimestamp'])\n",
    "\n",
    "for symbol, asset_address in filtered_assets:\n",
    "    reserve_data = aave_client.get_pool_data(lending_pool, \"getReserveData\", asset_address)\n",
    "    current_liquidity_rate = reserve_data['currentLiquidityRate'] * 100\n",
    "    current_variable_borrow_rate = reserve_data['currentVariableBorrowRate'] * 100\n",
    "    last_update_timestamp = pd.to_datetime(reserve_data['lastUpdateTimestamp'], unit='s')\n",
    "    \n",
    "    df.loc[asset_address] = [symbol, current_liquidity_rate, current_variable_borrow_rate, last_update_timestamp]\n",
    "\n",
    "print(df)"
   ]
  },
  {
   "cell_type": "code",
   "execution_count": 9,
   "metadata": {},
   "outputs": [
    {
     "name": "stdout",
     "output_type": "stream",
     "text": [
      "Spread: -1.5201398470645495, Buy asset: 0xFd086bC7CD5C481DCC9C85ebE478A1C0b69FCbb9, Sell asset: 0xFd086bC7CD5C481DCC9C85ebE478A1C0b69FCbb9\n"
     ]
    }
   ],
   "source": [
    "# Calculate spread\n",
    "spread = df['currentLiquidityRate'].max() - df['currentVariableBorrowRate'].min()\n",
    "buy_asset = df['currentLiquidityRate'].idxmax()\n",
    "sell_asset = df['currentVariableBorrowRate'].idxmin()\n",
    "print(f\"Spread: {spread}, Buy asset: {buy_asset}, Sell asset: {sell_asset}\")"
   ]
  },
  {
   "cell_type": "code",
   "execution_count": 10,
   "metadata": {},
   "outputs": [
    {
     "name": "stdout",
     "output_type": "stream",
     "text": [
      "Number of loops: 1, Total collateral: 190.0, Leverage: 1.9\n"
     ]
    }
   ],
   "source": [
    "# Calculate leverage\n",
    "LTV = 0.9\n",
    "initial_collateral = 100\n",
    "stop_condition = 0.9\n",
    "\n",
    "number_of_loops = math.ceil(math.log(stop_condition) / math.log(LTV))\n",
    "total_collateral = initial_collateral * ((1 - LTV**(number_of_loops + 1)) / (1 - LTV))\n",
    "leverage = total_collateral / initial_collateral\n",
    "\n",
    "print(f\"Number of loops: {number_of_loops}, Total collateral: {total_collateral}, Leverage: {leverage}\")\n"
   ]
  },
  {
   "cell_type": "code",
   "execution_count": 11,
   "metadata": {},
   "outputs": [
    {
     "name": "stdout",
     "output_type": "stream",
     "text": [
      "APY: 4.467114628363765\n"
     ]
    }
   ],
   "source": [
    "# Calculate APY\n",
    "apy = (df['currentLiquidityRate'].max() * initial_collateral + (total_collateral - initial_collateral) * max(spread, 0)) / initial_collateral\n",
    "print(f\"APY: {apy}\")"
   ]
  },
  {
   "cell_type": "code",
   "execution_count": 12,
   "metadata": {},
   "outputs": [
    {
     "name": "stdout",
     "output_type": "stream",
     "text": [
      "User account data: {'totalCollateralBase': 0.0, 'totalDebtBase': 0.0, 'availableBorrowsBase': 0.0, 'currentLiquidationThreshold': 0, 'ltv': 0, 'healthFactor': 115792089237316195423570985008687907853269984665640564039457584007913129639935}\n"
     ]
    }
   ],
   "source": [
    "# Get user account data\n",
    "user_account_data = aave_client.get_pool_data(lending_pool, \"getUserAccountData\", user_address)\n",
    "print(\"User account data:\", user_account_data)"
   ]
  },
  {
   "cell_type": "code",
   "execution_count": 13,
   "metadata": {},
   "outputs": [
    {
     "name": "stdout",
     "output_type": "stream",
     "text": [
      "User reserve data: (0,)\n"
     ]
    }
   ],
   "source": [
    "# Get user configuration\n",
    "user_reserve_data = aave_client.get_pool_data(lending_pool, \"getUserConfiguration\", user_address)\n",
    "print(\"User reserve data:\", user_reserve_data)"
   ]
  },
  {
   "cell_type": "code",
   "execution_count": 14,
   "metadata": {},
   "outputs": [
    {
     "ename": "TypeError",
     "evalue": "tuple indices must be integers or slices, not str",
     "output_type": "error",
     "traceback": [
      "\u001b[0;31m---------------------------------------------------------------------------\u001b[0m",
      "\u001b[0;31mTypeError\u001b[0m                                 Traceback (most recent call last)",
      "Cell \u001b[0;32mIn[14], line 24\u001b[0m\n\u001b[1;32m     20\u001b[0m             collateral_indices\u001b[38;5;241m.\u001b[39mappend(asset_index)\n\u001b[1;32m     22\u001b[0m     \u001b[38;5;28;01mreturn\u001b[39;00m borrowed_indices, collateral_indices\n\u001b[0;32m---> 24\u001b[0m borrowed_indices, collateral_indices \u001b[38;5;241m=\u001b[39m \u001b[43minterpret_user_reserve_data\u001b[49m\u001b[43m(\u001b[49m\u001b[43muser_reserve_data\u001b[49m\u001b[43m)\u001b[49m\n\u001b[1;32m     26\u001b[0m reserves_assets_list \u001b[38;5;241m=\u001b[39m aave_client\u001b[38;5;241m.\u001b[39mget_pool_data(lending_pool, \u001b[38;5;124m\"\u001b[39m\u001b[38;5;124mgetReservesList\u001b[39m\u001b[38;5;124m\"\u001b[39m)\n\u001b[1;32m     28\u001b[0m \u001b[38;5;28mprint\u001b[39m(\u001b[38;5;124m\"\u001b[39m\u001b[38;5;124mSupplied asset is: \u001b[39m\u001b[38;5;124m\"\u001b[39m, reserves_assets_list[collateral_indices[\u001b[38;5;241m0\u001b[39m]])\n",
      "Cell \u001b[0;32mIn[14], line 3\u001b[0m, in \u001b[0;36minterpret_user_reserve_data\u001b[0;34m(user_reserve_data)\u001b[0m\n\u001b[1;32m      2\u001b[0m \u001b[38;5;28;01mdef\u001b[39;00m \u001b[38;5;21minterpret_user_reserve_data\u001b[39m(user_reserve_data):\n\u001b[0;32m----> 3\u001b[0m     user_reserve_value \u001b[38;5;241m=\u001b[39m \u001b[43muser_reserve_data\u001b[49m\u001b[43m[\u001b[49m\u001b[38;5;124;43m'\u001b[39;49m\u001b[38;5;124;43mdata\u001b[39;49m\u001b[38;5;124;43m'\u001b[39;49m\u001b[43m]\u001b[49m\n\u001b[1;32m      4\u001b[0m     binary_data \u001b[38;5;241m=\u001b[39m \u001b[38;5;28mbin\u001b[39m(user_reserve_value)[\u001b[38;5;241m2\u001b[39m:]\u001b[38;5;241m.\u001b[39mzfill(\u001b[38;5;241m256\u001b[39m)\n\u001b[1;32m      5\u001b[0m     bit_pairs \u001b[38;5;241m=\u001b[39m [binary_data[i:i\u001b[38;5;241m+\u001b[39m\u001b[38;5;241m2\u001b[39m] \u001b[38;5;28;01mfor\u001b[39;00m i \u001b[38;5;129;01min\u001b[39;00m \u001b[38;5;28mrange\u001b[39m(\u001b[38;5;241m0\u001b[39m, \u001b[38;5;28mlen\u001b[39m(binary_data), \u001b[38;5;241m2\u001b[39m)]\n",
      "\u001b[0;31mTypeError\u001b[0m: tuple indices must be integers or slices, not str"
     ]
    }
   ],
   "source": [
    "\n",
    "# Interpret user reserve data\n",
    "def interpret_user_reserve_data(user_reserve_data):\n",
    "    user_reserve_value = user_reserve_data['data']\n",
    "    binary_data = bin(user_reserve_value)[2:].zfill(256)\n",
    "    bit_pairs = [binary_data[i:i+2] for i in range(0, len(binary_data), 2)]\n",
    "\n",
    "    borrowed_indices = []\n",
    "    collateral_indices = []\n",
    "\n",
    "    for i in range(len(bit_pairs)-1, -1, -1):\n",
    "        pair = bit_pairs[i]\n",
    "        asset_index = len(bit_pairs) - i - 1\n",
    "\n",
    "        if pair == \"01\":\n",
    "            borrowed_indices.append(asset_index)\n",
    "        elif pair == \"11\":\n",
    "            collateral_indices.append(asset_index)\n",
    "            borrowed_indices.append(asset_index)\n",
    "        elif pair == \"10\":\n",
    "            collateral_indices.append(asset_index)\n",
    "\n",
    "    return borrowed_indices, collateral_indices\n",
    "\n",
    "borrowed_indices, collateral_indices = interpret_user_reserve_data(user_reserve_data)\n",
    "\n",
    "reserves_assets_list = aave_client.get_pool_data(lending_pool, \"getReservesList\")\n",
    "\n",
    "print(\"Supplied asset is: \", reserves_assets_list[collateral_indices[0]])\n",
    "print(\"Borrowed asset is: \", reserves_assets_list[borrowed_indices[0]])"
   ]
  },
  {
   "cell_type": "code",
   "execution_count": 15,
   "metadata": {},
   "outputs": [
    {
     "ename": "NameError",
     "evalue": "name 'reserves_assets_list' is not defined",
     "output_type": "error",
     "traceback": [
      "\u001b[0;31m---------------------------------------------------------------------------\u001b[0m",
      "\u001b[0;31mNameError\u001b[0m                                 Traceback (most recent call last)",
      "Cell \u001b[0;32mIn[15], line 1\u001b[0m\n\u001b[0;32m----> 1\u001b[0m supply_asset \u001b[38;5;241m=\u001b[39m \u001b[43mreserves_assets_list\u001b[49m[collateral_indices[\u001b[38;5;241m0\u001b[39m]]\n\u001b[1;32m      2\u001b[0m supply_reserve_asset \u001b[38;5;241m=\u001b[39m \u001b[38;5;28mnext\u001b[39m((token \u001b[38;5;28;01mfor\u001b[39;00m token \u001b[38;5;129;01min\u001b[39;00m aave_client\u001b[38;5;241m.\u001b[39mactive_network\u001b[38;5;241m.\u001b[39maave_tokens \u001b[38;5;28;01mif\u001b[39;00m token\u001b[38;5;241m.\u001b[39maddress \u001b[38;5;241m==\u001b[39m supply_asset), \u001b[38;5;28;01mNone\u001b[39;00m)\n\u001b[1;32m      3\u001b[0m supply_reserves \u001b[38;5;241m=\u001b[39m aave_client\u001b[38;5;241m.\u001b[39mget_protocol_data(\u001b[38;5;124m\"\u001b[39m\u001b[38;5;124mgetUserReserveData\u001b[39m\u001b[38;5;124m\"\u001b[39m, supply_asset, user_address)\n",
      "\u001b[0;31mNameError\u001b[0m: name 'reserves_assets_list' is not defined"
     ]
    }
   ],
   "source": [
    "supply_asset = reserves_assets_list[collateral_indices[0]]\n",
    "supply_reserve_asset = next((token for token in aave_client.active_network.aave_tokens if token.address == supply_asset), None)\n",
    "supply_reserves = aave_client.get_protocol_data(\"getUserReserveData\", supply_asset, user_address)\n",
    "\n",
    "borrow_asset = reserves_assets_list[borrowed_indices[0]]\n",
    "borrow_reserve_asset = next((token for token in aave_client.active_network.aave_tokens if token.address == borrow_asset), None)\n",
    "borrow_reserves = aave_client.get_protocol_data(\"getUserReserveData\", borrow_asset, user_address)\n",
    "\n",
    "print(f\"Supplied asset address is {supply_asset} for a total of {supply_reserves[0]}\")\n",
    "print(f\"Borrowed asset address is {borrow_asset} for a total of {borrow_reserves[2]}\")"
   ]
  },
  {
   "cell_type": "code",
   "execution_count": 16,
   "metadata": {},
   "outputs": [
    {
     "ename": "NameError",
     "evalue": "name 'borrow_asset' is not defined",
     "output_type": "error",
     "traceback": [
      "\u001b[0;31m---------------------------------------------------------------------------\u001b[0m",
      "\u001b[0;31mNameError\u001b[0m                                 Traceback (most recent call last)",
      "Cell \u001b[0;32mIn[16], line 2\u001b[0m\n\u001b[1;32m      1\u001b[0m \u001b[38;5;66;03m# Check wallet balances\u001b[39;00m\n\u001b[0;32m----> 2\u001b[0m borrow_asset_wallet_balance \u001b[38;5;241m=\u001b[39m aave_client\u001b[38;5;241m.\u001b[39mget_wallet_balance_data(\u001b[38;5;124m\"\u001b[39m\u001b[38;5;124mbalanceOf\u001b[39m\u001b[38;5;124m\"\u001b[39m, user_address, \u001b[43mborrow_asset\u001b[49m)\n\u001b[1;32m      3\u001b[0m buy_asset_balance \u001b[38;5;241m=\u001b[39m aave_client\u001b[38;5;241m.\u001b[39mget_wallet_balance_data(\u001b[38;5;124m\"\u001b[39m\u001b[38;5;124mbalanceOf\u001b[39m\u001b[38;5;124m\"\u001b[39m, user_address, buy_asset)\n\u001b[1;32m      5\u001b[0m \u001b[38;5;28mprint\u001b[39m(\u001b[38;5;124mf\u001b[39m\u001b[38;5;124m\"\u001b[39m\u001b[38;5;124mWallet has \u001b[39m\u001b[38;5;132;01m{\u001b[39;00maave_client\u001b[38;5;241m.\u001b[39mconvert_from_decimal_units(borrow_reserve_asset,\u001b[38;5;250m \u001b[39mborrow_asset_wallet_balance)\u001b[38;5;132;01m}\u001b[39;00m\u001b[38;5;124m balance of the borrowed assets\u001b[39m\u001b[38;5;124m\"\u001b[39m)\n",
      "\u001b[0;31mNameError\u001b[0m: name 'borrow_asset' is not defined"
     ]
    }
   ],
   "source": [
    "\n",
    "# Check wallet balances\n",
    "borrow_asset_wallet_balance = aave_client.get_wallet_balance_data(\"balanceOf\", user_address, borrow_asset)\n",
    "buy_asset_balance = aave_client.get_wallet_balance_data(\"balanceOf\", user_address, buy_asset)\n",
    "\n",
    "print(f\"Wallet has {aave_client.convert_from_decimal_units(borrow_reserve_asset, borrow_asset_wallet_balance)} balance of the borrowed assets\")\n",
    "print(f\"Wallet has {aave_client.convert_from_decimal_units(borrow_reserve_asset, buy_asset_balance)} balance of the asset to be supplied\")\n"
   ]
  },
  {
   "cell_type": "code",
   "execution_count": null,
   "metadata": {},
   "outputs": [],
   "source": [
    "# Example operations (uncomment to execute)\n",
    "\n",
    "# Deposit tokens\n",
    "# deposit_token = buy_asset\n",
    "# reserve_token = next((token for token in aave_client.active_network.aave_tokens if token.address == deposit_token), None)\n",
    "# deposit_amount = aave_client.convert_from_decimal_units(reserve_token, buy_asset_balance)\n",
    "# deposit_hash = aave_client.deposit(deposit_token=reserve_token, deposit_amount=deposit_amount)\n",
    "# print(\"Deposit Transaction Hash:\", deposit_hash)\n",
    "\n",
    "# Withdraw tokens\n",
    "# withdraw_amount = aave_client.convert_from_decimal_units(supply_reserve_asset, supply_reserves[0])\n",
    "# withdraw_transaction_receipt = aave_client.withdraw(withdraw_token=supply_reserve_asset, withdraw_amount=withdraw_amount)\n",
    "# print(\"Withdraw Transaction Hash:\", withdraw_transaction_receipt)\n",
    "\n",
    "# Swap tokens\n",
    "# swap_from_token = next((token for token in aave_client.active_network.aave_tokens if token.address == supply_asset), None)\n",
    "# swap_to_token = next((token for token in aave_client.active_network.aave_tokens if token.address == buy_asset), None)\n",
    "# amount_to_swap = withdraw_amount\n",
    "# try:\n",
    "#     receipt = aave_client.swap(swap_from_token=swap_from_token, swap_to_token=swap_to_token, amount_to_swap=amount_to_swap)\n",
    "#     print(f\"Swap transaction completed. Receipt: {receipt}\")\n",
    "# except Exception as e:\n",
    "#     print(f\"Error executing swap: {e}\")\n",
    "\n",
    "# Repay tokens\n",
    "# repay_amount = aave_client.convert_from_decimal_units(borrow_reserve_asset, borrow_asset_wallet_balance)\n",
    "# repay_transaction_receipt = aave_client.repay(lending_pool_contract=lending_pool, repay_amount=repay_amount, repay_asset=borrow_reserve_asset)\n",
    "# print(\"Repay Transaction Hash:\", repay_transaction_receipt)\n",
    "\n",
    "# Borrow tokens\n",
    "# borrow_amount = LTV * aave_client.convert_from_decimal_units(supply_reserve_asset, supply_reserves[0])\n",
    "# borrow_transaction_receipt = aave_client.borrow(lending_pool_contract=lending_pool, borrow_amount=borrow_amount, borrow_asset=borrow_reserve_asset)\n",
    "# print(\"Borrow Transaction Hash:\", borrow_transaction_receipt)"
   ]
  }
 ],
 "metadata": {
  "kernelspec": {
   "display_name": ".venv",
   "language": "python",
   "name": "python3"
  },
  "language_info": {
   "codemirror_mode": {
    "name": "ipython",
    "version": 3
   },
   "file_extension": ".py",
   "mimetype": "text/x-python",
   "name": "python",
   "nbconvert_exporter": "python",
   "pygments_lexer": "ipython3",
   "version": "3.9.6"
  }
 },
 "nbformat": 4,
 "nbformat_minor": 2
}
