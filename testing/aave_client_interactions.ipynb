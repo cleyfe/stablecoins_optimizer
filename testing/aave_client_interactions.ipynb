{
 "cells": [
  {
   "cell_type": "code",
   "execution_count": null,
   "metadata": {},
   "outputs": [],
   "source": [
    "import os\n",
    "import sys\n",
    "\n",
    "# Add the project root directory to the Python path\n",
    "project_root = os.path.abspath(os.path.join(os.getcwd(), '..'))\n",
    "sys.path.insert(0, project_root)\n",
    "\n",
    "import pandas as pd\n",
    "import math\n",
    "import datetime\n",
    "import time\n",
    "from eth_utils import to_bytes, to_int\n",
    "import requests\n",
    "from pprint import pprint\n",
    "\n",
    "from src.clients.aave_client import AaveClient\n"
   ]
  },
  {
   "cell_type": "code",
   "execution_count": null,
   "metadata": {},
   "outputs": [],
   "source": [
    "# Setup client\n",
    "RPC = \"ARBITRUM\"  # or POLYGON, ETHEREUM, KOVAN, MUMBAI\n",
    "RPC_URL = os.getenv(f\"{RPC}_RPC_URL\")"
   ]
  },
  {
   "cell_type": "code",
   "execution_count": null,
   "metadata": {},
   "outputs": [],
   "source": [
    "# Initialize Client:\n",
    "aave_client = AaveClient(wallet_address=os.getenv('WALLET_ADDRESS'),\n",
    "                         private_key=os.getenv('PRIVATE_WALLET_KEY'),\n",
    "                         network=RPC,\n",
    "                         rpc_url=RPC_URL,\n",
    "                         gas_strategy=\"medium\")\n",
    "\n",
    "# Get the lending pool smart contract:\n",
    "lending_pool = aave_client.get_lending_pool()\n",
    "print(lending_pool.address)"
   ]
  },
  {
   "cell_type": "code",
   "execution_count": null,
   "metadata": {},
   "outputs": [],
   "source": [
    "# Wallet data\n",
    "available_borrow_base, total_debt_base, total_collateral_base = aave_client.get_user_data(lending_pool)\n",
    "print(f\"Available borrow: {available_borrow_base}, Total debt: {total_debt_base}, Total collateral: {total_collateral_base}\")"
   ]
  },
  {
   "cell_type": "code",
   "execution_count": null,
   "metadata": {},
   "outputs": [],
   "source": [
    "# Call protocol functions\n",
    "assets = aave_client.get_protocol_data(\"getAllReservesTokens\")\n",
    "print(\"All reserve tokens:\", assets)\n",
    "\n",
    "asset_address = '0xFd086bC7CD5C481DCC9C85ebE478A1C0b69FCbb9'\n",
    "user_address = os.getenv('WALLET_ADDRESS')\n",
    "\n",
    "user_reserves = aave_client.get_protocol_data(\"getUserReserveData\", asset_address, user_address)\n",
    "print(\"User reserve data:\", user_reserves)"
   ]
  },
  {
   "cell_type": "code",
   "execution_count": null,
   "metadata": {},
   "outputs": [],
   "source": [
    "# Call pool functions\n",
    "assets_symbols = ['DAI', 'USDC', 'USDT']\n",
    "filtered_assets = [asset for asset in assets if asset[0] in assets_symbols]\n",
    "\n",
    "df = pd.DataFrame(columns=['symbol', 'currentLiquidityRate', 'currentVariableBorrowRate', 'lastUpdateTimestamp'])\n",
    "\n",
    "for symbol, asset_address in filtered_assets:\n",
    "    reserve_data = aave_client.get_pool_data(lending_pool, \"getReserveData\", asset_address)\n",
    "    current_liquidity_rate = reserve_data['currentLiquidityRate'] * 100\n",
    "    current_variable_borrow_rate = reserve_data['currentVariableBorrowRate'] * 100\n",
    "    last_update_timestamp = pd.to_datetime(reserve_data['lastUpdateTimestamp'], unit='s')\n",
    "    \n",
    "    df.loc[asset_address] = [symbol, current_liquidity_rate, current_variable_borrow_rate, last_update_timestamp]\n",
    "\n",
    "print(df)"
   ]
  },
  {
   "cell_type": "code",
   "execution_count": null,
   "metadata": {},
   "outputs": [],
   "source": [
    "# Calculate spread\n",
    "spread = df['currentLiquidityRate'].max() - df['currentVariableBorrowRate'].min()\n",
    "buy_asset = df['currentLiquidityRate'].idxmax()\n",
    "sell_asset = df['currentVariableBorrowRate'].idxmin()\n",
    "print(f\"Spread: {spread}, Buy asset: {buy_asset}, Sell asset: {sell_asset}\")"
   ]
  },
  {
   "cell_type": "code",
   "execution_count": null,
   "metadata": {},
   "outputs": [],
   "source": [
    "# Calculate leverage\n",
    "LTV = 0.9\n",
    "initial_collateral = 100\n",
    "stop_condition = 0.9\n",
    "\n",
    "number_of_loops = math.ceil(math.log(stop_condition) / math.log(LTV))\n",
    "total_collateral = initial_collateral * ((1 - LTV**(number_of_loops + 1)) / (1 - LTV))\n",
    "leverage = total_collateral / initial_collateral\n",
    "\n",
    "print(f\"Number of loops: {number_of_loops}, Total collateral: {total_collateral}, Leverage: {leverage}\")\n"
   ]
  },
  {
   "cell_type": "code",
   "execution_count": null,
   "metadata": {},
   "outputs": [],
   "source": [
    "# Calculate APY\n",
    "apy = (df['currentLiquidityRate'].max() * initial_collateral + (total_collateral - initial_collateral) * max(spread, 0)) / initial_collateral\n",
    "print(f\"APY: {apy}\")"
   ]
  },
  {
   "cell_type": "code",
   "execution_count": null,
   "metadata": {},
   "outputs": [],
   "source": [
    "# Get user account data\n",
    "user_account_data = aave_client.get_pool_data(lending_pool, \"getUserAccountData\", user_address)\n",
    "print(\"User account data:\", user_account_data)"
   ]
  },
  {
   "cell_type": "code",
   "execution_count": null,
   "metadata": {},
   "outputs": [],
   "source": [
    "# Get user configuration\n",
    "user_reserve_data = aave_client.get_pool_data(lending_pool, \"getUserConfiguration\", user_address)\n",
    "print(\"User reserve data:\", user_reserve_data)"
   ]
  },
  {
   "cell_type": "code",
   "execution_count": null,
   "metadata": {},
   "outputs": [],
   "source": [
    "\n",
    "# Interpret user reserve data\n",
    "def interpret_user_reserve_data(user_reserve_data):\n",
    "    user_reserve_value = user_reserve_data['data']\n",
    "    binary_data = bin(user_reserve_value)[2:].zfill(256)\n",
    "    bit_pairs = [binary_data[i:i+2] for i in range(0, len(binary_data), 2)]\n",
    "\n",
    "    borrowed_indices = []\n",
    "    collateral_indices = []\n",
    "\n",
    "    for i in range(len(bit_pairs)-1, -1, -1):\n",
    "        pair = bit_pairs[i]\n",
    "        asset_index = len(bit_pairs) - i - 1\n",
    "\n",
    "        if pair == \"01\":\n",
    "            borrowed_indices.append(asset_index)\n",
    "        elif pair == \"11\":\n",
    "            collateral_indices.append(asset_index)\n",
    "            borrowed_indices.append(asset_index)\n",
    "        elif pair == \"10\":\n",
    "            collateral_indices.append(asset_index)\n",
    "\n",
    "    return borrowed_indices, collateral_indices\n",
    "\n",
    "borrowed_indices, collateral_indices = interpret_user_reserve_data(user_reserve_data)\n",
    "\n",
    "reserves_assets_list = aave_client.get_pool_data(lending_pool, \"getReservesList\")\n",
    "\n",
    "print(\"Supplied asset is: \", reserves_assets_list[collateral_indices[0]])\n",
    "print(\"Borrowed asset is: \", reserves_assets_list[borrowed_indices[0]])"
   ]
  },
  {
   "cell_type": "code",
   "execution_count": null,
   "metadata": {},
   "outputs": [],
   "source": [
    "supply_asset = reserves_assets_list[collateral_indices[0]]\n",
    "supply_reserve_asset = next((token for token in aave_client.active_network.aave_tokens if token.address == supply_asset), None)\n",
    "supply_reserves = aave_client.get_protocol_data(\"getUserReserveData\", supply_asset, user_address)\n",
    "\n",
    "borrow_asset = reserves_assets_list[borrowed_indices[0]]\n",
    "borrow_reserve_asset = next((token for token in aave_client.active_network.aave_tokens if token.address == borrow_asset), None)\n",
    "borrow_reserves = aave_client.get_protocol_data(\"getUserReserveData\", borrow_asset, user_address)\n",
    "\n",
    "print(f\"Supplied asset address is {supply_asset} for a total of {supply_reserves[0]}\")\n",
    "print(f\"Borrowed asset address is {borrow_asset} for a total of {borrow_reserves[2]}\")"
   ]
  },
  {
   "cell_type": "code",
   "execution_count": null,
   "metadata": {},
   "outputs": [],
   "source": [
    "\n",
    "# Check wallet balances\n",
    "borrow_asset_wallet_balance = aave_client.get_wallet_balance_data(\"balanceOf\", user_address, borrow_asset)\n",
    "buy_asset_balance = aave_client.get_wallet_balance_data(\"balanceOf\", user_address, buy_asset)\n",
    "\n",
    "print(f\"Wallet has {aave_client.convert_from_decimal_units(borrow_reserve_asset, borrow_asset_wallet_balance)} balance of the borrowed assets\")\n",
    "print(f\"Wallet has {aave_client.convert_from_decimal_units(borrow_reserve_asset, buy_asset_balance)} balance of the asset to be supplied\")\n"
   ]
  },
  {
   "cell_type": "code",
   "execution_count": null,
   "metadata": {},
   "outputs": [],
   "source": [
    "# Example operations (uncomment to execute)\n",
    "\n",
    "# Deposit tokens\n",
    "# deposit_token = buy_asset\n",
    "# reserve_token = next((token for token in aave_client.active_network.aave_tokens if token.address == deposit_token), None)\n",
    "# deposit_amount = aave_client.convert_from_decimal_units(reserve_token, buy_asset_balance)\n",
    "# deposit_hash = aave_client.deposit(deposit_token=reserve_token, deposit_amount=deposit_amount)\n",
    "# print(\"Deposit Transaction Hash:\", deposit_hash)\n",
    "\n",
    "# Withdraw tokens\n",
    "# withdraw_amount = aave_client.convert_from_decimal_units(supply_reserve_asset, supply_reserves[0])\n",
    "# withdraw_transaction_receipt = aave_client.withdraw(withdraw_token=supply_reserve_asset, withdraw_amount=withdraw_amount)\n",
    "# print(\"Withdraw Transaction Hash:\", withdraw_transaction_receipt)\n",
    "\n",
    "# Swap tokens\n",
    "# swap_from_token = next((token for token in aave_client.active_network.aave_tokens if token.address == supply_asset), None)\n",
    "# swap_to_token = next((token for token in aave_client.active_network.aave_tokens if token.address == buy_asset), None)\n",
    "# amount_to_swap = withdraw_amount\n",
    "# try:\n",
    "#     receipt = aave_client.swap(swap_from_token=swap_from_token, swap_to_token=swap_to_token, amount_to_swap=amount_to_swap)\n",
    "#     print(f\"Swap transaction completed. Receipt: {receipt}\")\n",
    "# except Exception as e:\n",
    "#     print(f\"Error executing swap: {e}\")\n",
    "\n",
    "# Repay tokens\n",
    "# repay_amount = aave_client.convert_from_decimal_units(borrow_reserve_asset, borrow_asset_wallet_balance)\n",
    "# repay_transaction_receipt = aave_client.repay(lending_pool_contract=lending_pool, repay_amount=repay_amount, repay_asset=borrow_reserve_asset)\n",
    "# print(\"Repay Transaction Hash:\", repay_transaction_receipt)\n",
    "\n",
    "# Borrow tokens\n",
    "# borrow_amount = LTV * aave_client.convert_from_decimal_units(supply_reserve_asset, supply_reserves[0])\n",
    "# borrow_transaction_receipt = aave_client.borrow(lending_pool_contract=lending_pool, borrow_amount=borrow_amount, borrow_asset=borrow_reserve_asset)\n",
    "# print(\"Borrow Transaction Hash:\", borrow_transaction_receipt)"
   ]
  }
 ],
 "metadata": {
  "kernelspec": {
   "display_name": ".venv",
   "language": "python",
   "name": "python3"
  },
  "language_info": {
   "codemirror_mode": {
    "name": "ipython",
    "version": 3
   },
   "file_extension": ".py",
   "mimetype": "text/x-python",
   "name": "python",
   "nbconvert_exporter": "python",
   "pygments_lexer": "ipython3",
   "version": "3.9.6"
  }
 },
 "nbformat": 4,
 "nbformat_minor": 2
}
